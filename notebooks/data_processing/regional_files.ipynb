{
 "cells": [
  {
   "cell_type": "code",
   "execution_count": 1,
   "metadata": {},
   "outputs": [],
   "source": [
    "import pandas as pd\n",
    "import os"
   ]
  },
  {
   "cell_type": "code",
   "execution_count": 30,
   "metadata": {},
   "outputs": [],
   "source": [
    "def read_and_join(subfolder):\n",
    "    notebook_dir = os.path.dirname(os.path.abspath('__file__'))\n",
    "    data_folder_relative = os.path.join('..', '..', 'data','raw',subfolder)\n",
    "    data_folder_absolute = os.path.abspath(data_folder_relative)\n",
    "    \n",
    "    excel_files = [file for file in os.listdir(data_folder_absolute) if file.endswith('.xlsx')]\n",
    "\n",
    "    dataframes = []\n",
    "\n",
    "    for excel_file in excel_files:\n",
    "        excel_path = os.path.join(data_folder_absolute, excel_file)\n",
    "        print(f\"Reading {excel_path}\")\n",
    "        \n",
    "        df = pd.read_excel(excel_path) \n",
    "        dataframes.append(df)\n",
    "    \n",
    "    if dataframes:\n",
    "        combined_df = pd.concat(dataframes, ignore_index=True)\n",
    "        return combined_df\n",
    "    else:\n",
    "        print(\"No Excel files found or error reading files.\")\n",
    "        return None\n"
   ]
  },
  {
   "cell_type": "code",
   "execution_count": 34,
   "metadata": {},
   "outputs": [
    {
     "name": "stdout",
     "output_type": "stream",
     "text": [
      "Reading c:\\Users\\samtg\\github\\subnational_inequality\\data\\raw\\regional_election\\AUT_reg_1945-2015.xlsx\n",
      "Reading c:\\Users\\samtg\\github\\subnational_inequality\\data\\raw\\regional_election\\BEL_reg_1974-2014.xlsx\n",
      "Reading c:\\Users\\samtg\\github\\subnational_inequality\\data\\raw\\regional_election\\DEN_reg_1946-2013.xlsx\n",
      "Reading c:\\Users\\samtg\\github\\subnational_inequality\\data\\raw\\regional_election\\FRA_reg_1986-2015.xlsx\n",
      "Reading c:\\Users\\samtg\\github\\subnational_inequality\\data\\raw\\regional_election\\GER_reg_1946-2015.xlsx\n",
      "Reading c:\\Users\\samtg\\github\\subnational_inequality\\data\\raw\\regional_election\\ITA_reg_1947-2015.xlsx\n",
      "Reading c:\\Users\\samtg\\github\\subnational_inequality\\data\\raw\\regional_election\\POR_ACO_MAD_reg_1976-2015.xlsx\n",
      "Reading c:\\Users\\samtg\\github\\subnational_inequality\\data\\raw\\regional_election\\SPA_reg_1980-2015.xlsx\n",
      "Reading c:\\Users\\samtg\\github\\subnational_inequality\\data\\raw\\regional_election\\UKI_reg_1945-2012.xlsx\n"
     ]
    }
   ],
   "source": [
    "regional_elections_concat = read_and_join_csvs('regional_election')"
   ]
  },
  {
   "cell_type": "code",
   "execution_count": 35,
   "metadata": {},
   "outputs": [],
   "source": [
    "def add_single_to_dataframe(existing_df, new_excel_path):\n",
    "    new_df = pd.read_excel(new_excel_path)\n",
    "    combined_df = pd.concat([existing_df, new_df], ignore_index=True)\n",
    "    return combined_df"
   ]
  }
 ],
 "metadata": {
  "kernelspec": {
   "display_name": "Python 3",
   "language": "python",
   "name": "python3"
  },
  "language_info": {
   "codemirror_mode": {
    "name": "ipython",
    "version": 3
   },
   "file_extension": ".py",
   "mimetype": "text/x-python",
   "name": "python",
   "nbconvert_exporter": "python",
   "pygments_lexer": "ipython3",
   "version": "3.11.4"
  },
  "orig_nbformat": 4
 },
 "nbformat": 4,
 "nbformat_minor": 2
}
