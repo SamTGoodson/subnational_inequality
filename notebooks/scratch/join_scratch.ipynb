{
 "cells": [
  {
   "cell_type": "code",
   "execution_count": 1,
   "metadata": {},
   "outputs": [],
   "source": [
    "import pandas as pd\n",
    "import numpy as np\n",
    "from sklearn.feature_extraction.text import TfidfVectorizer\n",
    "from sklearn.metrics.pairwise import cosine_similarity"
   ]
  },
  {
   "cell_type": "code",
   "execution_count": 2,
   "metadata": {},
   "outputs": [],
   "source": [
    "import pycountry"
   ]
  },
  {
   "cell_type": "code",
   "execution_count": 3,
   "metadata": {},
   "outputs": [],
   "source": [
    "import re"
   ]
  },
  {
   "cell_type": "code",
   "execution_count": 4,
   "metadata": {},
   "outputs": [
    {
     "name": "stderr",
     "output_type": "stream",
     "text": [
      "c:\\Users\\samtg\\AppData\\Local\\Programs\\Python\\Python311\\Lib\\site-packages\\fuzzywuzzy\\fuzz.py:11: UserWarning: Using slow pure-python SequenceMatcher. Install python-Levenshtein to remove this warning\n",
      "  warnings.warn('Using slow pure-python SequenceMatcher. Install python-Levenshtein to remove this warning')\n"
     ]
    }
   ],
   "source": [
    "from fuzzywuzzy import fuzz"
   ]
  },
  {
   "cell_type": "code",
   "execution_count": 5,
   "metadata": {},
   "outputs": [],
   "source": [
    "import os "
   ]
  },
  {
   "cell_type": "code",
   "execution_count": 6,
   "metadata": {},
   "outputs": [],
   "source": [
    "def clean_and_prepare(df_inequality,df_elections):\n",
    "    df_inequality['country'] = df_inequality['file'].str[:2]\n",
    "    df_inequality['country_name'] = df_inequality['country'].apply(get_country_name)\n",
    "    \n",
    "    df_inequality.dropna(subset=['region'], inplace=True)\n",
    "    df_elections.dropna(subset=['regionname'], inplace=True)\n",
    "\n",
    "    df_inequality['cleaned_region'] = df_inequality['region'].str.lower().apply(lambda x: re.sub(r'^.*-', '', x))\n",
    "    df_elections['cleaned_region'] = df_elections['regionname'].str.lower().str.replace('[^\\w\\s]', '')\n",
    "\n",
    "    df_inequality['cleaned_region'] = df_inequality['cleaned_region'].str.strip()\n",
    "\n",
    "    countries_to_keep = df_inequality['country_name'].unique()\n",
    "    df_elections = df_elections[df_elections['country'].isin(countries_to_keep)]\n",
    "\n",
    "    return df_inequality, df_elections"
   ]
  },
  {
   "cell_type": "code",
   "execution_count": 5,
   "metadata": {},
   "outputs": [],
   "source": [
    "def clean_and_join_data(electoral_data_path, inequality_data_path, similarity_threshold=0.7):\n",
    "    # Step 1: Import electoral data\n",
    "    df_elections = pd.read_csv(electoral_data_path, delimiter=\",\", encoding='UTF-8')\n",
    "\n",
    "    # Step 2: Import inequality data\n",
    "    df_inequality = pd.read_fwf(inequality_data_path, skiprows=3, header=None,\n",
    "                                names=[\"region\", \"year\", \"avg_gini\"])\n",
    "\n",
    "    # Step 3: Clean region names for both datasets\n",
    "    df_inequality['cleaned_region'] = df_inequality['region'].str.lower().str.replace('[^\\w\\s]', '')\n",
    "    df_elections['cleaned_region'] = df_elections['regionname'].str.lower().str.replace('[^\\w\\s]', '')\n",
    "\n",
    "    # Calculate TF-IDF vectors and cosine similarity\n",
    "    tfidf_vectorizer = TfidfVectorizer()\n",
    "    X_inequality = tfidf_vectorizer.fit_transform(df_inequality['cleaned_region'])\n",
    "    X_elections = tfidf_vectorizer.transform(df_elections['cleaned_region'])\n",
    "    similarity_matrix = cosine_similarity(X_elections, X_inequality)\n",
    "\n",
    "    # Initialize lists to store predicted matches and confidence scores\n",
    "    predicted_matches = []\n",
    "    confidence_scores = []\n",
    "\n",
    "    # Step 4: Iterate through electoral data and find matches\n",
    "    for i in range(len(df_elections)):\n",
    "        best_match_index = np.argmax(similarity_matrix[i])\n",
    "        best_similarity_score = similarity_matrix[i][best_match_index]\n",
    "\n",
    "        if best_similarity_score > similarity_threshold:\n",
    "            predicted_match = df_inequality.iloc[best_match_index]['region']\n",
    "        else:\n",
    "            predicted_match = None\n",
    "\n",
    "        predicted_matches.append(predicted_match)\n",
    "        confidence_scores.append(best_similarity_score)\n",
    "\n",
    "    df_elections['predicted_region'] = predicted_matches\n",
    "    df_elections['confidence_score'] = confidence_scores\n",
    "\n",
    "    # Step 5: Merge the two datasets based on predicted regions and years\n",
    "    joined_data = df_elections.merge(df_inequality, left_on=['predicted_region', 'year'],\n",
    "                                     right_on=['region', 'year'], how='left')\n",
    "\n",
    "    return joined_data"
   ]
  },
  {
   "cell_type": "code",
   "execution_count": 7,
   "metadata": {},
   "outputs": [],
   "source": [
    "def get_country_name(abbreviation):\n",
    "    try:\n",
    "        country = pycountry.countries.get(alpha_2=abbreviation)\n",
    "        return country.name\n",
    "    except AttributeError:\n",
    "        return None"
   ]
  },
  {
   "cell_type": "code",
   "execution_count": 80,
   "metadata": {},
   "outputs": [],
   "source": [
    "def clean_region(region):\n",
    "    # Check if the region starts with '[' and ends with ']'\n",
    "    if re.match(r'\\[\\d+\\](.+)', region):\n",
    "        # Extract the text within square brackets\n",
    "        cleaned_region = re.match(r'\\[\\d+\\](.+)', region).group(1)\n",
    "    else:\n",
    "        # For non-Spanish regions, remove everything before the last hyphen '-'\n",
    "        cleaned_region = re.sub(r'^.*-', '', region)\n",
    "    \n",
    "    return cleaned_region.strip()"
   ]
  },
  {
   "cell_type": "code",
   "execution_count": 90,
   "metadata": {},
   "outputs": [],
   "source": [
    "def clean_inequality_region(df):\n",
    "    df.reset_index(drop=True, inplace=True)\n",
    "    \n",
    "    df.loc[df['country_name'] == 'Spain', 'cleaned_region'] = df['region'].str.lower().apply(lambda x: re.sub(r'\\[\\d+\\](.+)', r'\\1', x))\n",
    "    df.loc[df['country_name'] != 'Spain', 'cleaned_region'] = df['region'].str.lower().apply(lambda x: re.sub(r'^.*-', '', x))\n",
    "    df['cleaned_region'] = df['cleaned_region'].str.strip()\n",
    "\n",
    "    return df"
   ]
  },
  {
   "cell_type": "code",
   "execution_count": null,
   "metadata": {},
   "outputs": [],
   "source": []
  },
  {
   "cell_type": "code",
   "execution_count": 8,
   "metadata": {},
   "outputs": [],
   "source": [
    "save_folder_relative = os.path.join('..', '..', 'data', 'raw','national_election','eu_ned_national_nuts2(1).csv')\n",
    "electoral_data_path = os.path.abspath(save_folder_relative)"
   ]
  },
  {
   "cell_type": "code",
   "execution_count": 9,
   "metadata": {},
   "outputs": [],
   "source": [
    "df_elections = pd.read_csv(electoral_data_path, delimiter=\",\", encoding='UTF-8')\n"
   ]
  },
  {
   "cell_type": "code",
   "execution_count": 21,
   "metadata": {},
   "outputs": [],
   "source": [
    "ineq_folder_relative = os.path.join('..', '..', 'data', 'raw','lissy','multination_gini_1.txt')\n",
    "inequality_data_path = os.path.abspath(ineq_folder_relative)"
   ]
  },
  {
   "cell_type": "code",
   "execution_count": 83,
   "metadata": {},
   "outputs": [],
   "source": [
    "\n",
    "df_inequality = pd.read_fwf(inequality_data_path, skiprows=3, header=None,\n",
    "                                names=[\"file\",\"region\", \"year\", \"avg_gini\"])"
   ]
  },
  {
   "cell_type": "code",
   "execution_count": 23,
   "metadata": {},
   "outputs": [],
   "source": [
    "df1,df2 = clean_and_prepare(df_inequality,df_elections)"
   ]
  },
  {
   "cell_type": "code",
   "execution_count": 84,
   "metadata": {},
   "outputs": [],
   "source": [
    "df_inequality['country'] = df_inequality['file'].str[:2]"
   ]
  },
  {
   "cell_type": "code",
   "execution_count": 85,
   "metadata": {},
   "outputs": [],
   "source": [
    "df_inequality['country_name'] = df_inequality['country'].apply(get_country_name)"
   ]
  },
  {
   "cell_type": "code",
   "execution_count": 86,
   "metadata": {},
   "outputs": [],
   "source": [
    "df_inequality.dropna(subset=['region'], inplace=True)\n",
    "df_elections.dropna(subset=['regionname'], inplace=True)"
   ]
  },
  {
   "cell_type": "code",
   "execution_count": 91,
   "metadata": {},
   "outputs": [],
   "source": [
    "df_inequality = clean_inequality_region(df_inequality)"
   ]
  },
  {
   "cell_type": "code",
   "execution_count": 101,
   "metadata": {},
   "outputs": [
    {
     "data": {
      "text/html": [
       "<div>\n",
       "<style scoped>\n",
       "    .dataframe tbody tr th:only-of-type {\n",
       "        vertical-align: middle;\n",
       "    }\n",
       "\n",
       "    .dataframe tbody tr th {\n",
       "        vertical-align: top;\n",
       "    }\n",
       "\n",
       "    .dataframe thead th {\n",
       "        text-align: right;\n",
       "    }\n",
       "</style>\n",
       "<table border=\"1\" class=\"dataframe\">\n",
       "  <thead>\n",
       "    <tr style=\"text-align: right;\">\n",
       "      <th></th>\n",
       "      <th>file</th>\n",
       "      <th>region</th>\n",
       "      <th>year</th>\n",
       "      <th>avg_gini</th>\n",
       "      <th>country</th>\n",
       "      <th>country_name</th>\n",
       "      <th>cleaned_region</th>\n",
       "    </tr>\n",
       "  </thead>\n",
       "  <tbody>\n",
       "  </tbody>\n",
       "</table>\n",
       "</div>"
      ],
      "text/plain": [
       "Empty DataFrame\n",
       "Columns: [file, region, year, avg_gini, country, country_name, cleaned_region]\n",
       "Index: []"
      ]
     },
     "execution_count": 101,
     "metadata": {},
     "output_type": "execute_result"
    }
   ],
   "source": [
    "df_inequality[(df_inequality['country_name'] == 'Spain') & (df_inequality['avg_gini'].isna())]"
   ]
  },
  {
   "cell_type": "code",
   "execution_count": 75,
   "metadata": {},
   "outputs": [],
   "source": [
    "df_inequality['cleaned_region'] = df_inequality['region'].str.lower().apply(lambda x: re.sub(r'^.*-', '', x))\n",
    "df_elections['cleaned_region'] = df_elections['regionname'].str.lower().str.replace('[^\\w\\s]', '')"
   ]
  },
  {
   "cell_type": "code",
   "execution_count": 26,
   "metadata": {},
   "outputs": [],
   "source": [
    "joined_data = df_elections.merge(df_inequality, left_on=['country','regionname', 'year'],\n",
    "                                right_on=['country_name','predicted_region', 'year'], how='left')"
   ]
  },
  {
   "cell_type": "code",
   "execution_count": 33,
   "metadata": {},
   "outputs": [
    {
     "data": {
      "text/html": [
       "<div>\n",
       "<style scoped>\n",
       "    .dataframe tbody tr th:only-of-type {\n",
       "        vertical-align: middle;\n",
       "    }\n",
       "\n",
       "    .dataframe tbody tr th {\n",
       "        vertical-align: top;\n",
       "    }\n",
       "\n",
       "    .dataframe thead th {\n",
       "        text-align: right;\n",
       "    }\n",
       "</style>\n",
       "<table border=\"1\" class=\"dataframe\">\n",
       "  <thead>\n",
       "    <tr style=\"text-align: right;\">\n",
       "      <th></th>\n",
       "      <th>country_name</th>\n",
       "      <th>region</th>\n",
       "      <th>predicted_region</th>\n",
       "      <th>cleaned_region</th>\n",
       "      <th>confidence_score</th>\n",
       "    </tr>\n",
       "  </thead>\n",
       "  <tbody>\n",
       "    <tr>\n",
       "      <th>864</th>\n",
       "      <td>Italy</td>\n",
       "      <td>[10]ITI2 - Umbria</td>\n",
       "      <td>None</td>\n",
       "      <td>umbria</td>\n",
       "      <td>0.0</td>\n",
       "    </tr>\n",
       "    <tr>\n",
       "      <th>865</th>\n",
       "      <td>Italy</td>\n",
       "      <td>[11]ITI3 - Marche</td>\n",
       "      <td>None</td>\n",
       "      <td>marche</td>\n",
       "      <td>0.0</td>\n",
       "    </tr>\n",
       "    <tr>\n",
       "      <th>866</th>\n",
       "      <td>Italy</td>\n",
       "      <td>[12]ITI4 - Lazio</td>\n",
       "      <td>None</td>\n",
       "      <td>lazio</td>\n",
       "      <td>0.0</td>\n",
       "    </tr>\n",
       "    <tr>\n",
       "      <th>867</th>\n",
       "      <td>Italy</td>\n",
       "      <td>[13]ITF1 - Abruzzo</td>\n",
       "      <td>None</td>\n",
       "      <td>abruzzo</td>\n",
       "      <td>0.0</td>\n",
       "    </tr>\n",
       "    <tr>\n",
       "      <th>868</th>\n",
       "      <td>Italy</td>\n",
       "      <td>[14]ITF2 - Molise</td>\n",
       "      <td>None</td>\n",
       "      <td>molise</td>\n",
       "      <td>0.0</td>\n",
       "    </tr>\n",
       "    <tr>\n",
       "      <th>...</th>\n",
       "      <td>...</td>\n",
       "      <td>...</td>\n",
       "      <td>...</td>\n",
       "      <td>...</td>\n",
       "      <td>...</td>\n",
       "    </tr>\n",
       "    <tr>\n",
       "      <th>95</th>\n",
       "      <td>Italy</td>\n",
       "      <td>[5]ITH3 - Veneto</td>\n",
       "      <td>None</td>\n",
       "      <td>veneto</td>\n",
       "      <td>0.0</td>\n",
       "    </tr>\n",
       "    <tr>\n",
       "      <th>96</th>\n",
       "      <td>Italy</td>\n",
       "      <td>[6]ITH4 - Friuli</td>\n",
       "      <td>None</td>\n",
       "      <td>friuli</td>\n",
       "      <td>0.0</td>\n",
       "    </tr>\n",
       "    <tr>\n",
       "      <th>97</th>\n",
       "      <td>Italy</td>\n",
       "      <td>[7]ITC3 - Liguria</td>\n",
       "      <td>None</td>\n",
       "      <td>liguria</td>\n",
       "      <td>0.0</td>\n",
       "    </tr>\n",
       "    <tr>\n",
       "      <th>98</th>\n",
       "      <td>Italy</td>\n",
       "      <td>[8]ITH5 - Emilia Romagna</td>\n",
       "      <td>None</td>\n",
       "      <td>emilia romagna</td>\n",
       "      <td>0.0</td>\n",
       "    </tr>\n",
       "    <tr>\n",
       "      <th>99</th>\n",
       "      <td>Italy</td>\n",
       "      <td>[9]ITI1 - Toscana</td>\n",
       "      <td>None</td>\n",
       "      <td>toscana</td>\n",
       "      <td>0.0</td>\n",
       "    </tr>\n",
       "  </tbody>\n",
       "</table>\n",
       "<p>236 rows × 5 columns</p>\n",
       "</div>"
      ],
      "text/plain": [
       "    country_name                    region predicted_region   cleaned_region  \\\n",
       "864        Italy         [10]ITI2 - Umbria             None           umbria   \n",
       "865        Italy         [11]ITI3 - Marche             None           marche   \n",
       "866        Italy          [12]ITI4 - Lazio             None            lazio   \n",
       "867        Italy        [13]ITF1 - Abruzzo             None          abruzzo   \n",
       "868        Italy         [14]ITF2 - Molise             None           molise   \n",
       "..           ...                       ...              ...              ...   \n",
       "95         Italy          [5]ITH3 - Veneto             None           veneto   \n",
       "96         Italy          [6]ITH4 - Friuli             None           friuli   \n",
       "97         Italy         [7]ITC3 - Liguria             None          liguria   \n",
       "98         Italy  [8]ITH5 - Emilia Romagna             None   emilia romagna   \n",
       "99         Italy         [9]ITI1 - Toscana             None          toscana   \n",
       "\n",
       "     confidence_score  \n",
       "864               0.0  \n",
       "865               0.0  \n",
       "866               0.0  \n",
       "867               0.0  \n",
       "868               0.0  \n",
       "..                ...  \n",
       "95                0.0  \n",
       "96                0.0  \n",
       "97                0.0  \n",
       "98                0.0  \n",
       "99                0.0  \n",
       "\n",
       "[236 rows x 5 columns]"
      ]
     },
     "execution_count": 33,
     "metadata": {},
     "output_type": "execute_result"
    }
   ],
   "source": [
    "df_inequality[df_inequality['country_name'] == 'Italy'][['country_name','region', 'predicted_region','cleaned_region', 'confidence_score']]"
   ]
  },
  {
   "cell_type": "code",
   "execution_count": 28,
   "metadata": {},
   "outputs": [
    {
     "data": {
      "text/plain": [
       "cleaned_region\n",
       "puglia                                 115\n",
       "campania                               113\n",
       "sardegna                               111\n",
       "veneto                                 110\n",
       "sicilia                                109\n",
       "calabria                               108\n",
       "lombardia                              108\n",
       "toscana                                107\n",
       "piemonte                               103\n",
       "abruzzo                                102\n",
       "provincia autonoma di bolzano/bozen    101\n",
       "emilia-romagna                         101\n",
       "molise                                 100\n",
       "provincia autonoma di trento           100\n",
       "liguria                                100\n",
       "lazio                                  100\n",
       "friuli-venezia giulia                   99\n",
       "basilicata                              98\n",
       "marche                                  96\n",
       "umbria                                  95\n",
       "valle d'aosta/vallée d'aoste            52\n",
       "Name: count, dtype: int64"
      ]
     },
     "execution_count": 28,
     "metadata": {},
     "output_type": "execute_result"
    }
   ],
   "source": [
    "df_elections[df_elections['country'] == 'Italy']['cleaned_region'].value_counts()"
   ]
  },
  {
   "cell_type": "markdown",
   "metadata": {},
   "source": [
    "What if we just do it with minimal cleaning "
   ]
  },
  {
   "cell_type": "code",
   "execution_count": 59,
   "metadata": {},
   "outputs": [],
   "source": [
    "df_inequality['cleaned_region'] = df_inequality['region'].str.lower().apply(lambda x: re.sub(r'^.*-', '', x))\n",
    "df_elections['cleaned_region'] = df_elections['regionname'].str.lower().str.replace('[^\\w\\s]', '')"
   ]
  },
  {
   "cell_type": "code",
   "execution_count": 60,
   "metadata": {},
   "outputs": [],
   "source": [
    "df_inequality['cleaned_region'] = df_inequality['cleaned_region'].str.strip()"
   ]
  },
  {
   "cell_type": "code",
   "execution_count": 116,
   "metadata": {},
   "outputs": [],
   "source": [
    "simple_join = df_inequality.merge(df_elections, left_on=['country_name','cleaned_region', 'year'], right_on=['country','cleaned_region', 'year'], how='left')"
   ]
  },
  {
   "cell_type": "code",
   "execution_count": 95,
   "metadata": {},
   "outputs": [],
   "source": [
    "simple_join_t = df_inequality.merge(df_elections, left_on=['country_name', 'year'], right_on=['country', 'year'], how='left')"
   ]
  },
  {
   "cell_type": "code",
   "execution_count": 101,
   "metadata": {},
   "outputs": [
    {
     "data": {
      "text/plain": [
       "Index(['file', 'region', 'year', 'avg_gini', 'country_x', 'country_name',\n",
       "       'cleaned_region_x', 'country_y', 'country_code', 'nutslevel', 'nuts2',\n",
       "       'regionname', 'type', 'party_abbreviation', 'party_english',\n",
       "       'party_native', 'partyfacts_id', 'partyvote', 'electorate', 'totalvote',\n",
       "       'validvote', 'cleaned_region_y'],\n",
       "      dtype='object')"
      ]
     },
     "execution_count": 101,
     "metadata": {},
     "output_type": "execute_result"
    }
   ],
   "source": [
    "simple_join_t.columns"
   ]
  },
  {
   "cell_type": "code",
   "execution_count": 104,
   "metadata": {},
   "outputs": [
    {
     "data": {
      "text/plain": [
       "country_y\n",
       "France     42365\n",
       "Germany    41290\n",
       "Spain      25203\n",
       "Austria     8627\n",
       "Italy       3840\n",
       "Belgium     1323\n",
       "Name: count, dtype: int64"
      ]
     },
     "execution_count": 104,
     "metadata": {},
     "output_type": "execute_result"
    }
   ],
   "source": [
    "simple_join_t['country_y'].value_counts()"
   ]
  },
  {
   "cell_type": "code",
   "execution_count": 79,
   "metadata": {},
   "outputs": [],
   "source": [
    "simple_join.dropna(subset=['party_native'], inplace=True)"
   ]
  },
  {
   "cell_type": "code",
   "execution_count": 120,
   "metadata": {},
   "outputs": [
    {
     "data": {
      "text/html": [
       "<div>\n",
       "<style scoped>\n",
       "    .dataframe tbody tr th:only-of-type {\n",
       "        vertical-align: middle;\n",
       "    }\n",
       "\n",
       "    .dataframe tbody tr th {\n",
       "        vertical-align: top;\n",
       "    }\n",
       "\n",
       "    .dataframe thead th {\n",
       "        text-align: right;\n",
       "    }\n",
       "</style>\n",
       "<table border=\"1\" class=\"dataframe\">\n",
       "  <thead>\n",
       "    <tr style=\"text-align: right;\">\n",
       "      <th></th>\n",
       "      <th>country_name</th>\n",
       "      <th>country_x</th>\n",
       "      <th>country_y</th>\n",
       "      <th>cleaned_region</th>\n",
       "      <th>year</th>\n",
       "      <th>party_native</th>\n",
       "      <th>avg_gini</th>\n",
       "    </tr>\n",
       "  </thead>\n",
       "  <tbody>\n",
       "    <tr>\n",
       "      <th>0</th>\n",
       "      <td>Austria</td>\n",
       "      <td>at</td>\n",
       "      <td>NaN</td>\n",
       "      <td>nordburgenland</td>\n",
       "      <td>2000</td>\n",
       "      <td>NaN</td>\n",
       "      <td>0.266</td>\n",
       "    </tr>\n",
       "    <tr>\n",
       "      <th>1</th>\n",
       "      <td>Austria</td>\n",
       "      <td>at</td>\n",
       "      <td>NaN</td>\n",
       "      <td>südburgenland</td>\n",
       "      <td>2000</td>\n",
       "      <td>NaN</td>\n",
       "      <td>0.246</td>\n",
       "    </tr>\n",
       "    <tr>\n",
       "      <th>2</th>\n",
       "      <td>Austria</td>\n",
       "      <td>at</td>\n",
       "      <td>NaN</td>\n",
       "      <td>eisenwurzen</td>\n",
       "      <td>2000</td>\n",
       "      <td>NaN</td>\n",
       "      <td>0.261</td>\n",
       "    </tr>\n",
       "    <tr>\n",
       "      <th>3</th>\n",
       "      <td>Austria</td>\n",
       "      <td>at</td>\n",
       "      <td>NaN</td>\n",
       "      <td>süd</td>\n",
       "      <td>2000</td>\n",
       "      <td>NaN</td>\n",
       "      <td>0.254</td>\n",
       "    </tr>\n",
       "    <tr>\n",
       "      <th>4</th>\n",
       "      <td>Austria</td>\n",
       "      <td>at</td>\n",
       "      <td>NaN</td>\n",
       "      <td>sankt pölten</td>\n",
       "      <td>2000</td>\n",
       "      <td>NaN</td>\n",
       "      <td>0.256</td>\n",
       "    </tr>\n",
       "    <tr>\n",
       "      <th>...</th>\n",
       "      <td>...</td>\n",
       "      <td>...</td>\n",
       "      <td>...</td>\n",
       "      <td>...</td>\n",
       "      <td>...</td>\n",
       "      <td>...</td>\n",
       "      <td>...</td>\n",
       "    </tr>\n",
       "    <tr>\n",
       "      <th>2763</th>\n",
       "      <td>Italy</td>\n",
       "      <td>it</td>\n",
       "      <td>NaN</td>\n",
       "      <td>veneto</td>\n",
       "      <td>1998</td>\n",
       "      <td>NaN</td>\n",
       "      <td>0.322</td>\n",
       "    </tr>\n",
       "    <tr>\n",
       "      <th>2764</th>\n",
       "      <td>Italy</td>\n",
       "      <td>it</td>\n",
       "      <td>NaN</td>\n",
       "      <td>friuli</td>\n",
       "      <td>1998</td>\n",
       "      <td>NaN</td>\n",
       "      <td>0.310</td>\n",
       "    </tr>\n",
       "    <tr>\n",
       "      <th>2765</th>\n",
       "      <td>Italy</td>\n",
       "      <td>it</td>\n",
       "      <td>NaN</td>\n",
       "      <td>liguria</td>\n",
       "      <td>1998</td>\n",
       "      <td>NaN</td>\n",
       "      <td>0.321</td>\n",
       "    </tr>\n",
       "    <tr>\n",
       "      <th>2766</th>\n",
       "      <td>Italy</td>\n",
       "      <td>it</td>\n",
       "      <td>NaN</td>\n",
       "      <td>emilia romagna</td>\n",
       "      <td>1998</td>\n",
       "      <td>NaN</td>\n",
       "      <td>0.315</td>\n",
       "    </tr>\n",
       "    <tr>\n",
       "      <th>2767</th>\n",
       "      <td>Italy</td>\n",
       "      <td>it</td>\n",
       "      <td>NaN</td>\n",
       "      <td>toscana</td>\n",
       "      <td>1998</td>\n",
       "      <td>NaN</td>\n",
       "      <td>0.290</td>\n",
       "    </tr>\n",
       "  </tbody>\n",
       "</table>\n",
       "<p>2028 rows × 7 columns</p>\n",
       "</div>"
      ],
      "text/plain": [
       "     country_name country_x country_y   cleaned_region  year party_native  \\\n",
       "0         Austria        at       NaN   nordburgenland  2000          NaN   \n",
       "1         Austria        at       NaN    südburgenland  2000          NaN   \n",
       "2         Austria        at       NaN      eisenwurzen  2000          NaN   \n",
       "3         Austria        at       NaN              süd  2000          NaN   \n",
       "4         Austria        at       NaN     sankt pölten  2000          NaN   \n",
       "...           ...       ...       ...              ...   ...          ...   \n",
       "2763        Italy        it       NaN           veneto  1998          NaN   \n",
       "2764        Italy        it       NaN           friuli  1998          NaN   \n",
       "2765        Italy        it       NaN          liguria  1998          NaN   \n",
       "2766        Italy        it       NaN   emilia romagna  1998          NaN   \n",
       "2767        Italy        it       NaN          toscana  1998          NaN   \n",
       "\n",
       "      avg_gini  \n",
       "0        0.266  \n",
       "1        0.246  \n",
       "2        0.261  \n",
       "3        0.254  \n",
       "4        0.256  \n",
       "...        ...  \n",
       "2763     0.322  \n",
       "2764     0.310  \n",
       "2765     0.321  \n",
       "2766     0.315  \n",
       "2767     0.290  \n",
       "\n",
       "[2028 rows x 7 columns]"
      ]
     },
     "execution_count": 120,
     "metadata": {},
     "output_type": "execute_result"
    }
   ],
   "source": [
    "simple_join[simple_join['country_y'].isna()][['country_name','country_x','country_y','cleaned_region','year','party_native','avg_gini']]"
   ]
  },
  {
   "cell_type": "code",
   "execution_count": 128,
   "metadata": {},
   "outputs": [],
   "source": [
    "countries_to_keep = df_inequality['country_name'].unique()"
   ]
  },
  {
   "cell_type": "code",
   "execution_count": 129,
   "metadata": {},
   "outputs": [],
   "source": [
    "df_elections = df_elections[df_elections['country'].isin(countries_to_keep)]"
   ]
  },
  {
   "cell_type": "code",
   "execution_count": 158,
   "metadata": {},
   "outputs": [
    {
     "name": "stdout",
     "output_type": "stream",
     "text": [
      "Austria: [1990 1994 1995 2002 2006 2008 2013 2017 2019]\n",
      "Belgium: [1991 1995 1999 2003 2007 2010 2014 2019]\n",
      "France: [1993 1997 2002 2007 2012 2017]\n",
      "Germany: [1990 1994 1998 2002 2005 2009 2013 2017]\n",
      "Italy: [1992 1994 1996 2001 2006 2008 2013 2018]\n",
      "Spain: [1993 1996 2000 2004 2008 2011 2015 2016 2019]\n"
     ]
    }
   ],
   "source": [
    "for country in df_elections['country'].unique():\n",
    "    country_df = df_elections[df_elections['country'] == country]\n",
    "    years = country_df['year'].unique()\n",
    "    print(f\"{country}: {years}\")"
   ]
  },
  {
   "cell_type": "code",
   "execution_count": 164,
   "metadata": {},
   "outputs": [],
   "source": [
    "elec_country = []\n",
    "elec_years = []\n",
    "\n",
    "for country in df_elections['country'].unique():\n",
    "    country_df = df_elections[df_elections['country'] == country]\n",
    "    years = country_df['year'].unique()\n",
    "    elec_country.append(country)\n",
    "    elec_years.append(years)\n",
    "\n",
    "election_df = pd.DataFrame({'country': elec_country, 'years': elec_years})"
   ]
  },
  {
   "cell_type": "code",
   "execution_count": 130,
   "metadata": {},
   "outputs": [],
   "source": [
    "elec_data = []\n",
    "\n",
    "for country in df_elections['country'].unique():\n",
    "    country_df = df_elections[df_elections['country'] == country]\n",
    "    years = country_df['year'].unique()\n",
    "    for year in years:\n",
    "        elec_data.append({'country': country, 'year': year})\n",
    "\n",
    "election_df = pd.DataFrame(elec_data)"
   ]
  },
  {
   "cell_type": "code",
   "execution_count": 131,
   "metadata": {},
   "outputs": [],
   "source": [
    "election_df['flag'] = 1"
   ]
  },
  {
   "cell_type": "code",
   "execution_count": 133,
   "metadata": {},
   "outputs": [],
   "source": [
    "inequality_with_elections = df_inequality.merge(election_df, left_on=['country_name', 'year'], right_on=['country', 'year'], how='outer')"
   ]
  },
  {
   "cell_type": "code",
   "execution_count": 134,
   "metadata": {},
   "outputs": [],
   "source": [
    "df['country_name'].fillna(df['country_y'], inplace=True)"
   ]
  },
  {
   "cell_type": "code",
   "execution_count": 135,
   "metadata": {},
   "outputs": [],
   "source": [
    "inequality_with_elections['flag'].fillna(0, inplace=True)"
   ]
  },
  {
   "cell_type": "code",
   "execution_count": 136,
   "metadata": {},
   "outputs": [],
   "source": [
    "df = inequality_with_elections[['country_name', 'cleaned_region', 'year', 'avg_gini', 'flag','country_y']]"
   ]
  },
  {
   "cell_type": "code",
   "execution_count": 108,
   "metadata": {},
   "outputs": [
    {
     "name": "stderr",
     "output_type": "stream",
     "text": [
      "C:\\Users\\samtg\\AppData\\Local\\Temp\\ipykernel_35036\\4011950718.py:1: SettingWithCopyWarning: \n",
      "A value is trying to be set on a copy of a slice from a DataFrame\n",
      "\n",
      "See the caveats in the documentation: https://pandas.pydata.org/pandas-docs/stable/user_guide/indexing.html#returning-a-view-versus-a-copy\n",
      "  df.sort_values(['country_name', 'cleaned_region', 'year'], inplace=True)\n"
     ]
    }
   ],
   "source": [
    "df.sort_values(['country_name', 'cleaned_region', 'year'], inplace=True)"
   ]
  },
  {
   "cell_type": "code",
   "execution_count": 109,
   "metadata": {},
   "outputs": [
    {
     "name": "stderr",
     "output_type": "stream",
     "text": [
      "C:\\Users\\samtg\\AppData\\Local\\Temp\\ipykernel_35036\\3712966620.py:1: SettingWithCopyWarning: \n",
      "A value is trying to be set on a copy of a slice from a DataFrame.\n",
      "Try using .loc[row_indexer,col_indexer] = value instead\n",
      "\n",
      "See the caveats in the documentation: https://pandas.pydata.org/pandas-docs/stable/user_guide/indexing.html#returning-a-view-versus-a-copy\n",
      "  df['gini_since'] = df.groupby(['country_name', 'cleaned_region', 'flag'])['avg_gini'].transform(lambda x: x.expanding().mean().shift(fill_value=0))\n"
     ]
    }
   ],
   "source": [
    "df['gini_since'] = df.groupby(['country_name', 'cleaned_region', 'flag'])['avg_gini'].transform(lambda x: x.expanding().mean().shift(fill_value=0))"
   ]
  },
  {
   "cell_type": "code",
   "execution_count": 110,
   "metadata": {},
   "outputs": [
    {
     "name": "stderr",
     "output_type": "stream",
     "text": [
      "C:\\Users\\samtg\\AppData\\Local\\Temp\\ipykernel_35036\\1376924944.py:1: SettingWithCopyWarning: \n",
      "A value is trying to be set on a copy of a slice from a DataFrame.\n",
      "Try using .loc[row_indexer,col_indexer] = value instead\n",
      "\n",
      "See the caveats in the documentation: https://pandas.pydata.org/pandas-docs/stable/user_guide/indexing.html#returning-a-view-versus-a-copy\n",
      "  df['change_gini'] = df.groupby(['country_name', 'cleaned_region', 'flag'])['avg_gini'].transform(lambda x: x.diff().cumsum().shift(fill_value=0))\n"
     ]
    }
   ],
   "source": [
    "df['change_gini'] = df.groupby(['country_name', 'cleaned_region', 'flag'])['avg_gini'].transform(lambda x: x.diff().cumsum().shift(fill_value=0))"
   ]
  },
  {
   "cell_type": "code",
   "execution_count": null,
   "metadata": {},
   "outputs": [],
   "source": [
    "df.groupby(['group_ids', df['event_today_in_group'].shift().cumsum()])['days_since_last_event'].cumsum()"
   ]
  },
  {
   "cell_type": "code",
   "execution_count": 137,
   "metadata": {},
   "outputs": [
    {
     "name": "stderr",
     "output_type": "stream",
     "text": [
      "C:\\Users\\samtg\\AppData\\Local\\Temp\\ipykernel_35036\\1195183605.py:1: SettingWithCopyWarning: \n",
      "A value is trying to be set on a copy of a slice from a DataFrame.\n",
      "Try using .loc[row_indexer,col_indexer] = value instead\n",
      "\n",
      "See the caveats in the documentation: https://pandas.pydata.org/pandas-docs/stable/user_guide/indexing.html#returning-a-view-versus-a-copy\n",
      "  df['change_in_avg_gini'] = df.groupby(['country_name', 'cleaned_region', 'flag'])['avg_gini'].diff()\n"
     ]
    }
   ],
   "source": [
    "df['change_in_avg_gini'] = df.groupby(['country_name', 'cleaned_region', 'flag'])['avg_gini'].diff()"
   ]
  },
  {
   "cell_type": "code",
   "execution_count": 139,
   "metadata": {},
   "outputs": [
    {
     "data": {
      "text/html": [
       "<div>\n",
       "<style scoped>\n",
       "    .dataframe tbody tr th:only-of-type {\n",
       "        vertical-align: middle;\n",
       "    }\n",
       "\n",
       "    .dataframe tbody tr th {\n",
       "        vertical-align: top;\n",
       "    }\n",
       "\n",
       "    .dataframe thead th {\n",
       "        text-align: right;\n",
       "    }\n",
       "</style>\n",
       "<table border=\"1\" class=\"dataframe\">\n",
       "  <thead>\n",
       "    <tr style=\"text-align: right;\">\n",
       "      <th></th>\n",
       "      <th>country_name</th>\n",
       "      <th>cleaned_region</th>\n",
       "      <th>year</th>\n",
       "      <th>avg_gini</th>\n",
       "      <th>flag</th>\n",
       "      <th>change_in_avg_gini</th>\n",
       "    </tr>\n",
       "  </thead>\n",
       "  <tbody>\n",
       "    <tr>\n",
       "      <th>1994</th>\n",
       "      <td>Italy</td>\n",
       "      <td>lombardia</td>\n",
       "      <td>1989</td>\n",
       "      <td>0.300</td>\n",
       "      <td>0.0</td>\n",
       "      <td>-0.177</td>\n",
       "    </tr>\n",
       "    <tr>\n",
       "      <th>2013</th>\n",
       "      <td>Italy</td>\n",
       "      <td>lombardia</td>\n",
       "      <td>1991</td>\n",
       "      <td>0.276</td>\n",
       "      <td>0.0</td>\n",
       "      <td>-0.024</td>\n",
       "    </tr>\n",
       "    <tr>\n",
       "      <th>2032</th>\n",
       "      <td>Italy</td>\n",
       "      <td>lombardia</td>\n",
       "      <td>1993</td>\n",
       "      <td>0.327</td>\n",
       "      <td>0.0</td>\n",
       "      <td>0.051</td>\n",
       "    </tr>\n",
       "    <tr>\n",
       "      <th>2051</th>\n",
       "      <td>Italy</td>\n",
       "      <td>lombardia</td>\n",
       "      <td>1995</td>\n",
       "      <td>0.333</td>\n",
       "      <td>0.0</td>\n",
       "      <td>0.006</td>\n",
       "    </tr>\n",
       "    <tr>\n",
       "      <th>2071</th>\n",
       "      <td>Italy</td>\n",
       "      <td>lombardia</td>\n",
       "      <td>1998</td>\n",
       "      <td>0.347</td>\n",
       "      <td>0.0</td>\n",
       "      <td>0.014</td>\n",
       "    </tr>\n",
       "    <tr>\n",
       "      <th>1855</th>\n",
       "      <td>Italy</td>\n",
       "      <td>lombardia</td>\n",
       "      <td>2000</td>\n",
       "      <td>0.341</td>\n",
       "      <td>0.0</td>\n",
       "      <td>NaN</td>\n",
       "    </tr>\n",
       "    <tr>\n",
       "      <th>1875</th>\n",
       "      <td>Italy</td>\n",
       "      <td>lombardia</td>\n",
       "      <td>2004</td>\n",
       "      <td>0.326</td>\n",
       "      <td>0.0</td>\n",
       "      <td>-0.015</td>\n",
       "    </tr>\n",
       "    <tr>\n",
       "      <th>1895</th>\n",
       "      <td>Italy</td>\n",
       "      <td>lombardia</td>\n",
       "      <td>2008</td>\n",
       "      <td>0.336</td>\n",
       "      <td>1.0</td>\n",
       "      <td>NaN</td>\n",
       "    </tr>\n",
       "    <tr>\n",
       "      <th>1915</th>\n",
       "      <td>Italy</td>\n",
       "      <td>lombardia</td>\n",
       "      <td>2010</td>\n",
       "      <td>0.330</td>\n",
       "      <td>0.0</td>\n",
       "      <td>0.004</td>\n",
       "    </tr>\n",
       "    <tr>\n",
       "      <th>1935</th>\n",
       "      <td>Italy</td>\n",
       "      <td>lombardia</td>\n",
       "      <td>2014</td>\n",
       "      <td>0.340</td>\n",
       "      <td>0.0</td>\n",
       "      <td>0.010</td>\n",
       "    </tr>\n",
       "    <tr>\n",
       "      <th>1955</th>\n",
       "      <td>Italy</td>\n",
       "      <td>lombardia</td>\n",
       "      <td>2016</td>\n",
       "      <td>0.347</td>\n",
       "      <td>0.0</td>\n",
       "      <td>0.007</td>\n",
       "    </tr>\n",
       "    <tr>\n",
       "      <th>1975</th>\n",
       "      <td>Italy</td>\n",
       "      <td>lombardia</td>\n",
       "      <td>2020</td>\n",
       "      <td>0.477</td>\n",
       "      <td>0.0</td>\n",
       "      <td>0.130</td>\n",
       "    </tr>\n",
       "  </tbody>\n",
       "</table>\n",
       "</div>"
      ],
      "text/plain": [
       "     country_name cleaned_region  year  avg_gini  flag  change_in_avg_gini\n",
       "1994        Italy      lombardia  1989     0.300   0.0              -0.177\n",
       "2013        Italy      lombardia  1991     0.276   0.0              -0.024\n",
       "2032        Italy      lombardia  1993     0.327   0.0               0.051\n",
       "2051        Italy      lombardia  1995     0.333   0.0               0.006\n",
       "2071        Italy      lombardia  1998     0.347   0.0               0.014\n",
       "1855        Italy      lombardia  2000     0.341   0.0                 NaN\n",
       "1875        Italy      lombardia  2004     0.326   0.0              -0.015\n",
       "1895        Italy      lombardia  2008     0.336   1.0                 NaN\n",
       "1915        Italy      lombardia  2010     0.330   0.0               0.004\n",
       "1935        Italy      lombardia  2014     0.340   0.0               0.010\n",
       "1955        Italy      lombardia  2016     0.347   0.0               0.007\n",
       "1975        Italy      lombardia  2020     0.477   0.0               0.130"
      ]
     },
     "execution_count": 139,
     "metadata": {},
     "output_type": "execute_result"
    }
   ],
   "source": [
    "df[df['cleaned_region'] == 'lombardia'][['country_name', 'cleaned_region', 'year', 'avg_gini', 'flag','change_in_avg_gini']].sort_values('year')"
   ]
  },
  {
   "cell_type": "code",
   "execution_count": 115,
   "metadata": {},
   "outputs": [
    {
     "data": {
      "text/html": [
       "<div>\n",
       "<style scoped>\n",
       "    .dataframe tbody tr th:only-of-type {\n",
       "        vertical-align: middle;\n",
       "    }\n",
       "\n",
       "    .dataframe tbody tr th {\n",
       "        vertical-align: top;\n",
       "    }\n",
       "\n",
       "    .dataframe thead th {\n",
       "        text-align: right;\n",
       "    }\n",
       "</style>\n",
       "<table border=\"1\" class=\"dataframe\">\n",
       "  <thead>\n",
       "    <tr style=\"text-align: right;\">\n",
       "      <th></th>\n",
       "      <th>country_name</th>\n",
       "      <th>cleaned_region</th>\n",
       "      <th>year</th>\n",
       "      <th>avg_gini</th>\n",
       "      <th>flag</th>\n",
       "      <th>country_y</th>\n",
       "      <th>gini_since</th>\n",
       "      <th>change_gini</th>\n",
       "    </tr>\n",
       "  </thead>\n",
       "  <tbody>\n",
       "    <tr>\n",
       "      <th>986</th>\n",
       "      <td>Spain</td>\n",
       "      <td>andalucía</td>\n",
       "      <td>2004</td>\n",
       "      <td>0.349</td>\n",
       "      <td>1.0</td>\n",
       "      <td>Spain</td>\n",
       "      <td>0.000000</td>\n",
       "      <td>0.000</td>\n",
       "    </tr>\n",
       "    <tr>\n",
       "      <th>1004</th>\n",
       "      <td>Spain</td>\n",
       "      <td>andalucía</td>\n",
       "      <td>2005</td>\n",
       "      <td>0.348</td>\n",
       "      <td>0.0</td>\n",
       "      <td>NaN</td>\n",
       "      <td>0.000000</td>\n",
       "      <td>0.000</td>\n",
       "    </tr>\n",
       "    <tr>\n",
       "      <th>1023</th>\n",
       "      <td>Spain</td>\n",
       "      <td>andalucía</td>\n",
       "      <td>2006</td>\n",
       "      <td>0.345</td>\n",
       "      <td>0.0</td>\n",
       "      <td>NaN</td>\n",
       "      <td>0.348000</td>\n",
       "      <td>NaN</td>\n",
       "    </tr>\n",
       "    <tr>\n",
       "      <th>1042</th>\n",
       "      <td>Spain</td>\n",
       "      <td>andalucía</td>\n",
       "      <td>2007</td>\n",
       "      <td>0.353</td>\n",
       "      <td>0.0</td>\n",
       "      <td>NaN</td>\n",
       "      <td>0.346500</td>\n",
       "      <td>-0.003</td>\n",
       "    </tr>\n",
       "    <tr>\n",
       "      <th>1061</th>\n",
       "      <td>Spain</td>\n",
       "      <td>andalucía</td>\n",
       "      <td>2008</td>\n",
       "      <td>0.345</td>\n",
       "      <td>1.0</td>\n",
       "      <td>Spain</td>\n",
       "      <td>0.349000</td>\n",
       "      <td>NaN</td>\n",
       "    </tr>\n",
       "    <tr>\n",
       "      <th>1080</th>\n",
       "      <td>Spain</td>\n",
       "      <td>andalucía</td>\n",
       "      <td>2009</td>\n",
       "      <td>0.348</td>\n",
       "      <td>0.0</td>\n",
       "      <td>NaN</td>\n",
       "      <td>0.348667</td>\n",
       "      <td>0.005</td>\n",
       "    </tr>\n",
       "    <tr>\n",
       "      <th>1099</th>\n",
       "      <td>Spain</td>\n",
       "      <td>andalucía</td>\n",
       "      <td>2010</td>\n",
       "      <td>0.357</td>\n",
       "      <td>0.0</td>\n",
       "      <td>NaN</td>\n",
       "      <td>0.348500</td>\n",
       "      <td>0.000</td>\n",
       "    </tr>\n",
       "    <tr>\n",
       "      <th>1118</th>\n",
       "      <td>Spain</td>\n",
       "      <td>andalucía</td>\n",
       "      <td>2011</td>\n",
       "      <td>0.354</td>\n",
       "      <td>1.0</td>\n",
       "      <td>Spain</td>\n",
       "      <td>0.347000</td>\n",
       "      <td>-0.004</td>\n",
       "    </tr>\n",
       "    <tr>\n",
       "      <th>1137</th>\n",
       "      <td>Spain</td>\n",
       "      <td>andalucía</td>\n",
       "      <td>2012</td>\n",
       "      <td>0.347</td>\n",
       "      <td>0.0</td>\n",
       "      <td>NaN</td>\n",
       "      <td>0.350200</td>\n",
       "      <td>0.009</td>\n",
       "    </tr>\n",
       "    <tr>\n",
       "      <th>1156</th>\n",
       "      <td>Spain</td>\n",
       "      <td>andalucía</td>\n",
       "      <td>2013</td>\n",
       "      <td>0.358</td>\n",
       "      <td>0.0</td>\n",
       "      <td>NaN</td>\n",
       "      <td>0.349667</td>\n",
       "      <td>-0.001</td>\n",
       "    </tr>\n",
       "    <tr>\n",
       "      <th>1175</th>\n",
       "      <td>Spain</td>\n",
       "      <td>andalucía</td>\n",
       "      <td>2014</td>\n",
       "      <td>0.348</td>\n",
       "      <td>0.0</td>\n",
       "      <td>NaN</td>\n",
       "      <td>0.350857</td>\n",
       "      <td>0.010</td>\n",
       "    </tr>\n",
       "    <tr>\n",
       "      <th>1194</th>\n",
       "      <td>Spain</td>\n",
       "      <td>andalucía</td>\n",
       "      <td>2015</td>\n",
       "      <td>0.367</td>\n",
       "      <td>1.0</td>\n",
       "      <td>Spain</td>\n",
       "      <td>0.349333</td>\n",
       "      <td>0.005</td>\n",
       "    </tr>\n",
       "    <tr>\n",
       "      <th>1213</th>\n",
       "      <td>Spain</td>\n",
       "      <td>andalucía</td>\n",
       "      <td>2016</td>\n",
       "      <td>0.366</td>\n",
       "      <td>1.0</td>\n",
       "      <td>Spain</td>\n",
       "      <td>0.353750</td>\n",
       "      <td>0.018</td>\n",
       "    </tr>\n",
       "    <tr>\n",
       "      <th>1232</th>\n",
       "      <td>Spain</td>\n",
       "      <td>andalucía</td>\n",
       "      <td>2017</td>\n",
       "      <td>0.364</td>\n",
       "      <td>0.0</td>\n",
       "      <td>NaN</td>\n",
       "      <td>0.350500</td>\n",
       "      <td>0.000</td>\n",
       "    </tr>\n",
       "    <tr>\n",
       "      <th>1251</th>\n",
       "      <td>Spain</td>\n",
       "      <td>andalucía</td>\n",
       "      <td>2018</td>\n",
       "      <td>0.347</td>\n",
       "      <td>0.0</td>\n",
       "      <td>NaN</td>\n",
       "      <td>0.352000</td>\n",
       "      <td>0.016</td>\n",
       "    </tr>\n",
       "    <tr>\n",
       "      <th>1270</th>\n",
       "      <td>Spain</td>\n",
       "      <td>andalucía</td>\n",
       "      <td>2019</td>\n",
       "      <td>0.332</td>\n",
       "      <td>1.0</td>\n",
       "      <td>Spain</td>\n",
       "      <td>0.356200</td>\n",
       "      <td>0.017</td>\n",
       "    </tr>\n",
       "  </tbody>\n",
       "</table>\n",
       "</div>"
      ],
      "text/plain": [
       "     country_name cleaned_region  year  avg_gini  flag country_y  gini_since  \\\n",
       "986         Spain      andalucía  2004     0.349   1.0     Spain    0.000000   \n",
       "1004        Spain      andalucía  2005     0.348   0.0       NaN    0.000000   \n",
       "1023        Spain      andalucía  2006     0.345   0.0       NaN    0.348000   \n",
       "1042        Spain      andalucía  2007     0.353   0.0       NaN    0.346500   \n",
       "1061        Spain      andalucía  2008     0.345   1.0     Spain    0.349000   \n",
       "1080        Spain      andalucía  2009     0.348   0.0       NaN    0.348667   \n",
       "1099        Spain      andalucía  2010     0.357   0.0       NaN    0.348500   \n",
       "1118        Spain      andalucía  2011     0.354   1.0     Spain    0.347000   \n",
       "1137        Spain      andalucía  2012     0.347   0.0       NaN    0.350200   \n",
       "1156        Spain      andalucía  2013     0.358   0.0       NaN    0.349667   \n",
       "1175        Spain      andalucía  2014     0.348   0.0       NaN    0.350857   \n",
       "1194        Spain      andalucía  2015     0.367   1.0     Spain    0.349333   \n",
       "1213        Spain      andalucía  2016     0.366   1.0     Spain    0.353750   \n",
       "1232        Spain      andalucía  2017     0.364   0.0       NaN    0.350500   \n",
       "1251        Spain      andalucía  2018     0.347   0.0       NaN    0.352000   \n",
       "1270        Spain      andalucía  2019     0.332   1.0     Spain    0.356200   \n",
       "\n",
       "      change_gini  \n",
       "986         0.000  \n",
       "1004        0.000  \n",
       "1023          NaN  \n",
       "1042       -0.003  \n",
       "1061          NaN  \n",
       "1080        0.005  \n",
       "1099        0.000  \n",
       "1118       -0.004  \n",
       "1137        0.009  \n",
       "1156       -0.001  \n",
       "1175        0.010  \n",
       "1194        0.005  \n",
       "1213        0.018  \n",
       "1232        0.000  \n",
       "1251        0.016  \n",
       "1270        0.017  "
      ]
     },
     "execution_count": 115,
     "metadata": {},
     "output_type": "execute_result"
    }
   ],
   "source": [
    "df[(df['country_name'] == 'Spain') & (df['cleaned_region'] == 'andalucía')]"
   ]
  },
  {
   "cell_type": "code",
   "execution_count": 113,
   "metadata": {},
   "outputs": [
    {
     "data": {
      "text/plain": [
       "cleaned_region\n",
       "canarias                             17\n",
       "cantabria                            17\n",
       "la rioja                             17\n",
       "extremadura                          17\n",
       "galicia                              17\n",
       "comunidad valenciana                 17\n",
       "illes balears                        17\n",
       "país vasco                           16\n",
       "cataluña                             16\n",
       "comunidad de madrid                  16\n",
       "andalucía                            16\n",
       "ciudad autónoma de ceuta             16\n",
       "castilla-la mancha                   16\n",
       "castilla y león                      16\n",
       "principado de asturias               16\n",
       "aragón                               16\n",
       "región de murcia                     16\n",
       "comunidad foral de navarra           16\n",
       "ciudad autónoma de melilla           15\n",
       "madrid                                8\n",
       "east                                  8\n",
       "south                                 8\n",
       "north-west                            8\n",
       "central                               8\n",
       "canary islands                        8\n",
       "north-east                            8\n",
       "pais vasco                            1\n",
       "principado de asturia                 1\n",
       "region de murcia                      1\n",
       "andalucia                             1\n",
       "communidad de madrid                  1\n",
       "ciudad autonoma de ceuta y melill     1\n",
       "cataluna                              1\n",
       "castilla y leon                       1\n",
       "castilla la mancha                    1\n",
       "aragon                                1\n",
       "communidad foral de navarra           1\n",
       "Name: count, dtype: int64"
      ]
     },
     "execution_count": 113,
     "metadata": {},
     "output_type": "execute_result"
    }
   ],
   "source": [
    "df[df['country_name'] == 'Spain']['cleaned_region'].value_counts()"
   ]
  },
  {
   "cell_type": "code",
   "execution_count": 38,
   "metadata": {},
   "outputs": [],
   "source": [
    "election_years_df = df[df['flag'] == 1]"
   ]
  },
  {
   "cell_type": "code",
   "execution_count": 39,
   "metadata": {},
   "outputs": [],
   "source": [
    "election_years_df.reset_index(drop=True, inplace=True)"
   ]
  },
  {
   "cell_type": "code",
   "execution_count": 369,
   "metadata": {},
   "outputs": [],
   "source": [
    "joined_data = election_years_df.merge(df_elections, left_on=['country_name', 'cleaned_region', 'year'], right_on=['country', 'cleaned_region', 'year'], how='left')"
   ]
  },
  {
   "cell_type": "code",
   "execution_count": 370,
   "metadata": {},
   "outputs": [],
   "source": [
    "joined_data.dropna(subset=['party_native'], inplace=True)   "
   ]
  },
  {
   "cell_type": "code",
   "execution_count": 371,
   "metadata": {},
   "outputs": [
    {
     "data": {
      "text/plain": [
       "country_name\n",
       "France     537\n",
       "Germany    251\n",
       "Italy      125\n",
       "Austria     36\n",
       "Name: count, dtype: int64"
      ]
     },
     "execution_count": 371,
     "metadata": {},
     "output_type": "execute_result"
    }
   ],
   "source": [
    "joined_data['country_name'].value_counts()"
   ]
  },
  {
   "cell_type": "code",
   "execution_count": 372,
   "metadata": {},
   "outputs": [
    {
     "data": {
      "text/plain": [
       "country_name\n",
       "Austria    [2006, 2008, 2013, 2017, 2019, 1994, 1995, 199...\n",
       "Belgium     [1995, 2003, 2007, 2010, 2014, 1991, 1999, 2019]\n",
       "France                  [1997, 2002, 2007, 2012, 2017, 1993]\n",
       "Germany     [1994, 1998, 2002, 2005, 2009, 2013, 2017, 1990]\n",
       "Italy       [2008, 1992, 1994, 1996, 2001, 2006, 2013, 2018]\n",
       "Spain      [2004, 2008, 2011, 2015, 2016, 2019, 1993, 199...\n",
       "Name: year, dtype: object"
      ]
     },
     "execution_count": 372,
     "metadata": {},
     "output_type": "execute_result"
    }
   ],
   "source": [
    "election_years_df.groupby('country_name')['year'].unique()"
   ]
  },
  {
   "cell_type": "code",
   "execution_count": 373,
   "metadata": {},
   "outputs": [
    {
     "data": {
      "text/plain": [
       "country\n",
       "Austria    [1990, 1994, 1995, 2002, 2006, 2008, 2013, 201...\n",
       "Belgium     [1991, 1995, 1999, 2003, 2007, 2010, 2014, 2019]\n",
       "France                  [1993, 1997, 2002, 2007, 2012, 2017]\n",
       "Germany     [1990, 1994, 1998, 2002, 2005, 2009, 2013, 2017]\n",
       "Italy       [1992, 1994, 1996, 2001, 2006, 2008, 2013, 2018]\n",
       "Spain      [1993, 1996, 2000, 2004, 2008, 2011, 2015, 201...\n",
       "Name: year, dtype: object"
      ]
     },
     "execution_count": 373,
     "metadata": {},
     "output_type": "execute_result"
    }
   ],
   "source": [
    "df_elections.groupby('country')['year'].unique()"
   ]
  },
  {
   "cell_type": "code",
   "execution_count": 256,
   "metadata": {},
   "outputs": [],
   "source": [
    "def compare_dfs(country):\n",
    "    country_elections = df_elections[df_elections['country'] == country]\n",
    "    country_eydf = election_years_df[election_years_df['country_name'] == country]\n",
    "    print(country_elections.groupby('cleaned_region')['year'].unique(), country_eydf.groupby('cleaned_region')['year'].unique())"
   ]
  },
  {
   "cell_type": "code",
   "execution_count": 27,
   "metadata": {},
   "outputs": [],
   "source": [
    "def return_country_dfs(country):\n",
    "    country_elections = df_elections[df_elections['country'] == country]\n",
    "    country_eydf = election_years_df[election_years_df['country_name'] == country]\n",
    "    return country_elections, country_eydf"
   ]
  },
  {
   "cell_type": "code",
   "execution_count": 40,
   "metadata": {},
   "outputs": [],
   "source": [
    "italy1, italy2 = return_country_dfs('Spain')"
   ]
  },
  {
   "cell_type": "code",
   "execution_count": 318,
   "metadata": {},
   "outputs": [],
   "source": [
    "italy1 = italy1[['country', 'cleaned_region', 'year', 'party_native']]"
   ]
  },
  {
   "cell_type": "code",
   "execution_count": 41,
   "metadata": {},
   "outputs": [
    {
     "data": {
      "text/plain": [
       "cleaned_region\n",
       "andalucía                     [1993, 1996, 2000, 2004, 2008, 2011, 2015, 201...\n",
       "aragón                        [1993, 1996, 2000, 2004, 2008, 2011, 2015, 201...\n",
       "canarias                      [1993, 1996, 2000, 2004, 2008, 2011, 2015, 201...\n",
       "cantabria                     [1993, 1996, 2000, 2004, 2008, 2011, 2015, 201...\n",
       "castilla y león               [1993, 1996, 2000, 2004, 2008, 2011, 2015, 201...\n",
       "castilla-la mancha            [1993, 1996, 2000, 2004, 2008, 2011, 2015, 201...\n",
       "cataluña                      [1993, 1996, 2000, 2004, 2008, 2011, 2015, 201...\n",
       "ciudad autónoma de ceuta      [1993, 1996, 2000, 2004, 2008, 2011, 2015, 201...\n",
       "ciudad autónoma de melilla    [1993, 1996, 2000, 2004, 2008, 2011, 2015, 201...\n",
       "comunidad de madrid           [1993, 1996, 2000, 2004, 2008, 2011, 2015, 201...\n",
       "comunidad foral de navarra    [1993, 1996, 2000, 2004, 2008, 2011, 2015, 201...\n",
       "comunidad valenciana          [1993, 1996, 2000, 2004, 2008, 2011, 2015, 201...\n",
       "extremadura                   [1993, 1996, 2000, 2004, 2008, 2011, 2015, 201...\n",
       "galicia                       [1993, 1996, 2000, 2004, 2008, 2011, 2015, 201...\n",
       "illes balears                 [1993, 1996, 2000, 2004, 2008, 2011, 2015, 201...\n",
       "la rioja                      [1993, 1996, 2000, 2004, 2008, 2011, 2015, 201...\n",
       "país vasco                    [1993, 1996, 2000, 2004, 2008, 2011, 2015, 201...\n",
       "principado de asturias        [1993, 1996, 2000, 2004, 2008, 2011, 2015, 201...\n",
       "región de murcia              [1993, 1996, 2000, 2004, 2008, 2011, 2015, 201...\n",
       "Name: year, dtype: object"
      ]
     },
     "execution_count": 41,
     "metadata": {},
     "output_type": "execute_result"
    }
   ],
   "source": [
    "italy1.groupby('cleaned_region')['year'].unique()"
   ]
  },
  {
   "cell_type": "code",
   "execution_count": 42,
   "metadata": {},
   "outputs": [
    {
     "data": {
      "text/plain": [
       "cleaned_region\n",
       "[11]galicia                       [2004, 2008, 2011, 2015, 2016, 2019]\n",
       "[12]principado de asturias        [2004, 2008, 2011, 2015, 2016, 2019]\n",
       "[13]cantabria                     [2004, 2008, 2011, 2015, 2016, 2019]\n",
       "[21]país vasco                    [2004, 2008, 2011, 2015, 2016, 2019]\n",
       "[22]comunidad foral de navarra    [2004, 2008, 2011, 2015, 2016, 2019]\n",
       "[23]la rioja                      [2004, 2008, 2011, 2015, 2016, 2019]\n",
       "[24]aragón                        [2004, 2008, 2011, 2015, 2016, 2019]\n",
       "[30]comunidad de madrid           [2004, 2008, 2011, 2015, 2016, 2019]\n",
       "[3]madrid                                           [1993, 1996, 2000]\n",
       "[41]castilla y león               [2004, 2008, 2011, 2015, 2016, 2019]\n",
       "[43]extremadura                   [2004, 2008, 2011, 2015, 2016, 2019]\n",
       "[4]central                                          [1993, 1996, 2000]\n",
       "[51]cataluña                      [2004, 2008, 2011, 2015, 2016, 2019]\n",
       "[52]comunidad valenciana          [2004, 2008, 2011, 2015, 2016, 2019]\n",
       "[53]illes balears                 [2004, 2008, 2011, 2015, 2016, 2019]\n",
       "[5]east                                             [1993, 1996, 2000]\n",
       "[61]andalucía                     [2004, 2008, 2011, 2015, 2016, 2019]\n",
       "[62]región de murcia              [2004, 2008, 2011, 2015, 2016, 2019]\n",
       "[63]ciudad autónoma de ceuta      [2004, 2008, 2011, 2015, 2016, 2019]\n",
       "[64]ciudad autónoma de melilla          [2008, 2011, 2015, 2016, 2019]\n",
       "[6]south                                            [1993, 1996, 2000]\n",
       "[70]canarias                      [2004, 2008, 2011, 2015, 2016, 2019]\n",
       "[7]canary islands                                   [1993, 1996, 2000]\n",
       "east                                                [1993, 1996, 2000]\n",
       "la mancha                         [2004, 2008, 2011, 2015, 2016, 2019]\n",
       "west                                                [1993, 1996, 2000]\n",
       "Name: year, dtype: object"
      ]
     },
     "execution_count": 42,
     "metadata": {},
     "output_type": "execute_result"
    }
   ],
   "source": [
    "italy2.groupby('cleaned_region')['year'].unique()"
   ]
  },
  {
   "cell_type": "code",
   "execution_count": 322,
   "metadata": {},
   "outputs": [],
   "source": [
    "join_italy = italy1.merge(italy2, left_on=['cleaned_region', 'year'], right_on=['cleaned_region', 'year'], how='left')"
   ]
  },
  {
   "cell_type": "code",
   "execution_count": 323,
   "metadata": {},
   "outputs": [
    {
     "data": {
      "text/html": [
       "<div>\n",
       "<style scoped>\n",
       "    .dataframe tbody tr th:only-of-type {\n",
       "        vertical-align: middle;\n",
       "    }\n",
       "\n",
       "    .dataframe tbody tr th {\n",
       "        vertical-align: top;\n",
       "    }\n",
       "\n",
       "    .dataframe thead th {\n",
       "        text-align: right;\n",
       "    }\n",
       "</style>\n",
       "<table border=\"1\" class=\"dataframe\">\n",
       "  <thead>\n",
       "    <tr style=\"text-align: right;\">\n",
       "      <th></th>\n",
       "      <th>country</th>\n",
       "      <th>cleaned_region</th>\n",
       "      <th>year</th>\n",
       "      <th>party_native</th>\n",
       "      <th>country_name</th>\n",
       "      <th>avg_gini</th>\n",
       "      <th>flag</th>\n",
       "      <th>gini_since</th>\n",
       "      <th>change_gini</th>\n",
       "    </tr>\n",
       "  </thead>\n",
       "  <tbody>\n",
       "    <tr>\n",
       "      <th>73</th>\n",
       "      <td>Italy</td>\n",
       "      <td>piemonte</td>\n",
       "      <td>2008</td>\n",
       "      <td>Lista di Pietro -- Italia del Valori</td>\n",
       "      <td>Italy</td>\n",
       "      <td>0.276</td>\n",
       "      <td>1.0</td>\n",
       "      <td>0.0</td>\n",
       "      <td>0.0</td>\n",
       "    </tr>\n",
       "    <tr>\n",
       "      <th>74</th>\n",
       "      <td>Italy</td>\n",
       "      <td>piemonte</td>\n",
       "      <td>2008</td>\n",
       "      <td>Il Popolo della Liberta</td>\n",
       "      <td>Italy</td>\n",
       "      <td>0.276</td>\n",
       "      <td>1.0</td>\n",
       "      <td>0.0</td>\n",
       "      <td>0.0</td>\n",
       "    </tr>\n",
       "    <tr>\n",
       "      <th>75</th>\n",
       "      <td>Italy</td>\n",
       "      <td>piemonte</td>\n",
       "      <td>2008</td>\n",
       "      <td>Fiamma Tricolore</td>\n",
       "      <td>Italy</td>\n",
       "      <td>0.276</td>\n",
       "      <td>1.0</td>\n",
       "      <td>0.0</td>\n",
       "      <td>0.0</td>\n",
       "    </tr>\n",
       "    <tr>\n",
       "      <th>76</th>\n",
       "      <td>Italy</td>\n",
       "      <td>piemonte</td>\n",
       "      <td>2008</td>\n",
       "      <td>Sinistra Italiana</td>\n",
       "      <td>Italy</td>\n",
       "      <td>0.276</td>\n",
       "      <td>1.0</td>\n",
       "      <td>0.0</td>\n",
       "      <td>0.0</td>\n",
       "    </tr>\n",
       "    <tr>\n",
       "      <th>77</th>\n",
       "      <td>Italy</td>\n",
       "      <td>piemonte</td>\n",
       "      <td>2008</td>\n",
       "      <td>Lega Nord</td>\n",
       "      <td>Italy</td>\n",
       "      <td>0.276</td>\n",
       "      <td>1.0</td>\n",
       "      <td>0.0</td>\n",
       "      <td>0.0</td>\n",
       "    </tr>\n",
       "    <tr>\n",
       "      <th>...</th>\n",
       "      <td>...</td>\n",
       "      <td>...</td>\n",
       "      <td>...</td>\n",
       "      <td>...</td>\n",
       "      <td>...</td>\n",
       "      <td>...</td>\n",
       "      <td>...</td>\n",
       "      <td>...</td>\n",
       "      <td>...</td>\n",
       "    </tr>\n",
       "    <tr>\n",
       "      <th>2099</th>\n",
       "      <td>Italy</td>\n",
       "      <td>lazio</td>\n",
       "      <td>2008</td>\n",
       "      <td>Movimento per l'Autonomia</td>\n",
       "      <td>Italy</td>\n",
       "      <td>0.343</td>\n",
       "      <td>1.0</td>\n",
       "      <td>0.0</td>\n",
       "      <td>0.0</td>\n",
       "    </tr>\n",
       "    <tr>\n",
       "      <th>2100</th>\n",
       "      <td>Italy</td>\n",
       "      <td>lazio</td>\n",
       "      <td>2008</td>\n",
       "      <td>NaN</td>\n",
       "      <td>Italy</td>\n",
       "      <td>0.343</td>\n",
       "      <td>1.0</td>\n",
       "      <td>0.0</td>\n",
       "      <td>0.0</td>\n",
       "    </tr>\n",
       "    <tr>\n",
       "      <th>2101</th>\n",
       "      <td>Italy</td>\n",
       "      <td>lazio</td>\n",
       "      <td>2008</td>\n",
       "      <td>Partito Democratico</td>\n",
       "      <td>Italy</td>\n",
       "      <td>0.343</td>\n",
       "      <td>1.0</td>\n",
       "      <td>0.0</td>\n",
       "      <td>0.0</td>\n",
       "    </tr>\n",
       "    <tr>\n",
       "      <th>2102</th>\n",
       "      <td>Italy</td>\n",
       "      <td>lazio</td>\n",
       "      <td>2008</td>\n",
       "      <td>Partito Socialista Italiano</td>\n",
       "      <td>Italy</td>\n",
       "      <td>0.343</td>\n",
       "      <td>1.0</td>\n",
       "      <td>0.0</td>\n",
       "      <td>0.0</td>\n",
       "    </tr>\n",
       "    <tr>\n",
       "      <th>2103</th>\n",
       "      <td>Italy</td>\n",
       "      <td>lazio</td>\n",
       "      <td>2008</td>\n",
       "      <td>Unione di Centro</td>\n",
       "      <td>Italy</td>\n",
       "      <td>0.343</td>\n",
       "      <td>1.0</td>\n",
       "      <td>0.0</td>\n",
       "      <td>0.0</td>\n",
       "    </tr>\n",
       "  </tbody>\n",
       "</table>\n",
       "<p>192 rows × 9 columns</p>\n",
       "</div>"
      ],
      "text/plain": [
       "     country cleaned_region  year                          party_native  \\\n",
       "73     Italy       piemonte  2008  Lista di Pietro -- Italia del Valori   \n",
       "74     Italy       piemonte  2008               Il Popolo della Liberta   \n",
       "75     Italy       piemonte  2008                      Fiamma Tricolore   \n",
       "76     Italy       piemonte  2008                     Sinistra Italiana   \n",
       "77     Italy       piemonte  2008                             Lega Nord   \n",
       "...      ...            ...   ...                                   ...   \n",
       "2099   Italy          lazio  2008             Movimento per l'Autonomia   \n",
       "2100   Italy          lazio  2008                                   NaN   \n",
       "2101   Italy          lazio  2008                   Partito Democratico   \n",
       "2102   Italy          lazio  2008           Partito Socialista Italiano   \n",
       "2103   Italy          lazio  2008                      Unione di Centro   \n",
       "\n",
       "     country_name  avg_gini  flag  gini_since  change_gini  \n",
       "73          Italy     0.276   1.0         0.0          0.0  \n",
       "74          Italy     0.276   1.0         0.0          0.0  \n",
       "75          Italy     0.276   1.0         0.0          0.0  \n",
       "76          Italy     0.276   1.0         0.0          0.0  \n",
       "77          Italy     0.276   1.0         0.0          0.0  \n",
       "...           ...       ...   ...         ...          ...  \n",
       "2099        Italy     0.343   1.0         0.0          0.0  \n",
       "2100        Italy     0.343   1.0         0.0          0.0  \n",
       "2101        Italy     0.343   1.0         0.0          0.0  \n",
       "2102        Italy     0.343   1.0         0.0          0.0  \n",
       "2103        Italy     0.343   1.0         0.0          0.0  \n",
       "\n",
       "[192 rows x 9 columns]"
      ]
     },
     "execution_count": 323,
     "metadata": {},
     "output_type": "execute_result"
    }
   ],
   "source": [
    "join_italy[join_italy['year'] == 2008]"
   ]
  },
  {
   "cell_type": "code",
   "execution_count": 319,
   "metadata": {},
   "outputs": [
    {
     "name": "stderr",
     "output_type": "stream",
     "text": [
      "C:\\Users\\samtg\\AppData\\Local\\Temp\\ipykernel_21660\\1617302438.py:1: SettingWithCopyWarning: \n",
      "A value is trying to be set on a copy of a slice from a DataFrame.\n",
      "Try using .loc[row_indexer,col_indexer] = value instead\n",
      "\n",
      "See the caveats in the documentation: https://pandas.pydata.org/pandas-docs/stable/user_guide/indexing.html#returning-a-view-versus-a-copy\n",
      "  italy2['cleaned_region'] = italy2['cleaned_region'].str.strip()\n"
     ]
    }
   ],
   "source": [
    "italy2['cleaned_region'] = italy2['cleaned_region'].str.strip()"
   ]
  },
  {
   "cell_type": "code",
   "execution_count": 320,
   "metadata": {},
   "outputs": [],
   "source": [
    "matches = italy1[italy1['cleaned_region'].isin(italy2['cleaned_region'])]\n"
   ]
  }
 ],
 "metadata": {
  "kernelspec": {
   "display_name": "Python 3",
   "language": "python",
   "name": "python3"
  },
  "language_info": {
   "codemirror_mode": {
    "name": "ipython",
    "version": 3
   },
   "file_extension": ".py",
   "mimetype": "text/x-python",
   "name": "python",
   "nbconvert_exporter": "python",
   "pygments_lexer": "ipython3",
   "version": "3.11.4"
  },
  "orig_nbformat": 4
 },
 "nbformat": 4,
 "nbformat_minor": 2
}
